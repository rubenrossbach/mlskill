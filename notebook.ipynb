{
 "cells": [
  {
   "cell_type": "code",
   "execution_count": 1,
   "metadata": {},
   "outputs": [],
   "source": [
    "import pandas as pd\n",
    "import numpy as np"
   ]
  },
  {
   "cell_type": "code",
   "execution_count": 2,
   "metadata": {},
   "outputs": [],
   "source": [
    "# get raw data\n",
    "df = pd.read_csv(\"raw_data/Machine Learning Answers.md\", sep=\"\\n\")"
   ]
  },
  {
   "cell_type": "code",
   "execution_count": 3,
   "metadata": {},
   "outputs": [
    {
     "data": {
      "text/plain": [
       "- [ ]    287\n",
       "####      96\n",
       "- [x]     96\n",
       "[Refe      7\n",
       "**Exp      7\n",
       "![Mac      6\n",
       "[Sour      3\n",
       "![ima      3\n",
       "  **E      1\n",
       "  `Un      1\n",
       "`The       1\n",
       "`that      1\n",
       "`// t      1\n",
       "  `//      1\n",
       "`//Yo      1\n",
       "Name: ## Machine Learning, dtype: int64"
      ]
     },
     "execution_count": 3,
     "metadata": {},
     "output_type": "execute_result"
    }
   ],
   "source": [
    "df[\"## Machine Learning\"].str[0:5].value_counts()"
   ]
  },
  {
   "cell_type": "code",
   "execution_count": 4,
   "metadata": {},
   "outputs": [],
   "source": [
    "# clean df of explanations, references for now\n",
    "df = df[df[\"## Machine Learning\"].str[0:5].isin([\"- [ ]\",\n",
    "                                                 \"#### \",\n",
    "                                                 \"- [x]\",\n",
    "                                                 \"![Mac\",\n",
    "                                                 \"![ima\"])]"
   ]
  },
  {
   "cell_type": "code",
   "execution_count": 5,
   "metadata": {},
   "outputs": [],
   "source": [
    "# initialize results DataFrame\n",
    "res = pd.DataFrame(columns=[\"question\", \"answ1\", \"answ2\", \"answ3\", \"answ4\", \"correct\"],\n",
    "                    index=list(range(len(df) // 5)))"
   ]
  },
  {
   "cell_type": "code",
   "execution_count": 110,
   "metadata": {},
   "outputs": [],
   "source": [
    "# order question and answers\n",
    "for i in range(len(df)):\n",
    "    value = df.iloc[i,0]\n",
    "    res.iloc[i // 5, i % 5] = value\n",
    "    if value[0:5] == \"- [x]\":\n",
    "        res.iloc[i // 5, 5] = i % 5\n",
    "    if value[0] == \"#\":\n",
    "        i += 1"
   ]
  },
  {
   "cell_type": "code",
   "execution_count": null,
   "metadata": {},
   "outputs": [],
   "source": [
    "# new order including images\n",
    "ans_list = []\n",
    "for i in range(len(df)):\n",
    "    value = df.iloc[i,0]\n",
    "    res_tmp = pd.DataFrame(columns=[\"question\", \"answ1\", \"answ2\", \"answ3\", \"answ4\", \"correct\", \"image\"], index=1)\n",
    "    if value[0] == \"#\":\n",
    "        res_tmp[\"question\"] = value\n",
    "        ans_list = []\n",
    "    if value[0:5] == \"- [ ]\":\n",
    "        ans_list.append(value)\n",
    "    if value[0:5] == \"- [ ]\":\n",
    "        ans_list.append(value)\n",
    "    "
   ]
  },
  {
   "cell_type": "code",
   "execution_count": 6,
   "metadata": {},
   "outputs": [
    {
     "data": {
      "text/plain": [
       "['a', 'c']"
      ]
     },
     "execution_count": 6,
     "metadata": {},
     "output_type": "execute_result"
    }
   ],
   "source": [
    "# turn df into list\n",
    "# loop through res, take elements from list (pop)\n",
    "lst = list(df[\"## Machine Learning\"])\n",
    "res_lst = []\n",
    "while len(lst) > 0:\n",
    "    res_tmp = pd.DataFrame(columns=[\"question\", \"answ1\", \"answ2\", \"answ3\", \"answ4\", \"correct\", \"image\"], index=[0])\n",
    "    ans_lst = []\n",
    "    if lst[0][0] == \"#\":\n",
    "        res_tmp[\"question\"] = lst.pop(0)\n",
    "    if lst[0][0] == \"-\":\n",
    "        ans_lst.append(lst.pop(0))"
   ]
  },
  {
   "cell_type": "code",
   "execution_count": 121,
   "metadata": {},
   "outputs": [],
   "source": [
    "# Clean answers\n",
    "res[\"answ1\"] = res[\"answ1\"].str[5:]\n",
    "res[\"answ2\"] = res[\"answ2\"].str[5:]\n",
    "res[\"answ3\"] = res[\"answ3\"].str[5:]\n",
    "res[\"answ4\"] = res[\"answ4\"].str[5:]"
   ]
  },
  {
   "cell_type": "code",
   "execution_count": 124,
   "metadata": {},
   "outputs": [],
   "source": [
    "# Clean question\n",
    "res[\"question\"] = res[\"question\"].str.lstrip(\"#### \")"
   ]
  },
  {
   "cell_type": "code",
   "execution_count": 125,
   "metadata": {},
   "outputs": [
    {
     "data": {
      "text/html": [
       "<div>\n",
       "<style scoped>\n",
       "    .dataframe tbody tr th:only-of-type {\n",
       "        vertical-align: middle;\n",
       "    }\n",
       "\n",
       "    .dataframe tbody tr th {\n",
       "        vertical-align: top;\n",
       "    }\n",
       "\n",
       "    .dataframe thead th {\n",
       "        text-align: right;\n",
       "    }\n",
       "</style>\n",
       "<table border=\"1\" class=\"dataframe\">\n",
       "  <thead>\n",
       "    <tr style=\"text-align: right;\">\n",
       "      <th></th>\n",
       "      <th>question</th>\n",
       "      <th>answ1</th>\n",
       "      <th>answ2</th>\n",
       "      <th>answ3</th>\n",
       "      <th>answ4</th>\n",
       "      <th>correct</th>\n",
       "    </tr>\n",
       "  </thead>\n",
       "  <tbody>\n",
       "    <tr>\n",
       "      <th>94</th>\n",
       "      <td>Q95. When is a decision tree most commonly used?</td>\n",
       "      <td>with big data products</td>\n",
       "      <td>for supervised machine learning binary classi...</td>\n",
       "      <td>to find thd best data cluster</td>\n",
       "      <td>to determine \"Q\" in Q-learning reinforcement ...</td>\n",
       "      <td>2</td>\n",
       "    </tr>\n",
       "    <tr>\n",
       "      <th>95</th>\n",
       "      <td>Q96. An organisation that owns dozens of shopp...</td>\n",
       "      <td>most machine learning models are not designed...</td>\n",
       "      <td>it might be unethical for the business to ide...</td>\n",
       "      <td>it will be difficult to decide between superv...</td>\n",
       "      <td>the image in the video would not be high qual...</td>\n",
       "      <td>2</td>\n",
       "    </tr>\n",
       "  </tbody>\n",
       "</table>\n",
       "</div>"
      ],
      "text/plain": [
       "                                             question  \\\n",
       "94   Q95. When is a decision tree most commonly used?   \n",
       "95  Q96. An organisation that owns dozens of shopp...   \n",
       "\n",
       "                                                answ1  \\\n",
       "94                             with big data products   \n",
       "95   most machine learning models are not designed...   \n",
       "\n",
       "                                                answ2  \\\n",
       "94   for supervised machine learning binary classi...   \n",
       "95   it might be unethical for the business to ide...   \n",
       "\n",
       "                                                answ3  \\\n",
       "94                      to find thd best data cluster   \n",
       "95   it will be difficult to decide between superv...   \n",
       "\n",
       "                                                answ4 correct  \n",
       "94   to determine \"Q\" in Q-learning reinforcement ...       2  \n",
       "95   the image in the video would not be high qual...       2  "
      ]
     },
     "execution_count": 125,
     "metadata": {},
     "output_type": "execute_result"
    }
   ],
   "source": [
    "res.tail(2)"
   ]
  },
  {
   "cell_type": "code",
   "execution_count": 126,
   "metadata": {},
   "outputs": [],
   "source": [
    "# save csv\n",
    "res.to_csv(\"data/results.csv\", index=False)"
   ]
  },
  {
   "cell_type": "code",
   "execution_count": null,
   "metadata": {},
   "outputs": [],
   "source": []
  }
 ],
 "metadata": {
  "interpreter": {
   "hash": "2f83f7dc8029fd3e8ea6d06cd52d766b9994a37431b403e6471585641eb13c48"
  },
  "kernelspec": {
   "display_name": "Python 3.8.12 64-bit ('lewagon')",
   "language": "python",
   "name": "python3"
  },
  "language_info": {
   "codemirror_mode": {
    "name": "ipython",
    "version": 3
   },
   "file_extension": ".py",
   "mimetype": "text/x-python",
   "name": "python",
   "nbconvert_exporter": "python",
   "pygments_lexer": "ipython3",
   "version": "3.8.12"
  },
  "orig_nbformat": 4
 },
 "nbformat": 4,
 "nbformat_minor": 2
}
